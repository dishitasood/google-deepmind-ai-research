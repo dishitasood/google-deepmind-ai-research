{
  "nbformat": 4,
  "nbformat_minor": 0,
  "metadata": {
    "colab": {
      "provenance": [],
      "authorship_tag": "ABX9TyNFlRoqAhqSiIGqUR1cCj61",
      "include_colab_link": true
    },
    "kernelspec": {
      "name": "python3",
      "display_name": "Python 3"
    },
    "language_info": {
      "name": "python"
    }
  },
  "cells": [
    {
      "cell_type": "markdown",
      "metadata": {
        "id": "view-in-github",
        "colab_type": "text"
      },
      "source": [
        "<a href=\"https://colab.research.google.com/github/dishitasood/google-deepmind-ai-research/blob/main/probabilites_distribution.ipynb\" target=\"_parent\"><img src=\"https://colab.research.google.com/assets/colab-badge.svg\" alt=\"Open In Colab\"/></a>"
      ]
    },
    {
      "cell_type": "markdown",
      "source": [
        "### Example"
      ],
      "metadata": {
        "id": "J5xHhhCsgGaz"
      }
    },
    {
      "cell_type": "code",
      "execution_count": null,
      "metadata": {
        "colab": {
          "base_uri": "https://localhost:8080/"
        },
        "id": "bPNVFf75fgTB",
        "outputId": "385902bb-212a-4e77-87b0-ad2ac58e7e96"
      },
      "outputs": [
        {
          "output_type": "stream",
          "name": "stdout",
          "text": [
            "Today is : 2025-10-27 16:28:57.317070\n"
          ]
        }
      ],
      "source": [
        "from datetime import datetime\n",
        "print(f\"Today is : {datetime.today()}\")"
      ]
    },
    {
      "cell_type": "markdown",
      "source": [
        " ### Imports"
      ],
      "metadata": {
        "id": "moatOtmwgLip"
      }
    },
    {
      "cell_type": "code",
      "source": [
        "!pip install \"git+https://github.com/google-deepmind/ai-foundations.git@main\"\n",
        "import random\n",
        "from ai_foundations.feedback.course_1 import probabilities"
      ],
      "metadata": {
        "colab": {
          "base_uri": "https://localhost:8080/",
          "height": 1000
        },
        "id": "rqYwL9NWf_Ut",
        "outputId": "101787db-34f6-4d00-d963-ff590632af27"
      },
      "execution_count": null,
      "outputs": [
        {
          "output_type": "stream",
          "name": "stdout",
          "text": [
            "Collecting git+https://github.com/google-deepmind/ai-foundations.git@main\n",
            "  Cloning https://github.com/google-deepmind/ai-foundations.git (to revision main) to /tmp/pip-req-build-n8ql006c\n",
            "  Running command git clone --filter=blob:none --quiet https://github.com/google-deepmind/ai-foundations.git /tmp/pip-req-build-n8ql006c\n",
            "  Resolved https://github.com/google-deepmind/ai-foundations.git to commit 0056ed06979fb7dd08f212f6267f1b406012567a\n",
            "  Installing build dependencies ... \u001b[?25l\u001b[?25hdone\n",
            "  Getting requirements to build wheel ... \u001b[?25l\u001b[?25hdone\n",
            "  Preparing metadata (pyproject.toml) ... \u001b[?25l\u001b[?25hdone\n",
            "Collecting gemma==3.0.0 (from ai_foundations==0.1.0)\n",
            "  Downloading gemma-3.0.0-py3-none-any.whl.metadata (4.7 kB)\n",
            "Requirement already satisfied: jax==0.7.2 in /usr/local/lib/python3.12/dist-packages (from ai_foundations==0.1.0) (0.7.2)\n",
            "Requirement already satisfied: keras==3.10.0 in /usr/local/lib/python3.12/dist-packages (from ai_foundations==0.1.0) (3.10.0)\n",
            "Requirement already satisfied: numpy==2.0.2 in /usr/local/lib/python3.12/dist-packages (from ai_foundations==0.1.0) (2.0.2)\n",
            "Requirement already satisfied: pandas==2.2.2 in /usr/local/lib/python3.12/dist-packages (from ai_foundations==0.1.0) (2.2.2)\n",
            "Requirement already satisfied: plotly==5.24.1 in /usr/local/lib/python3.12/dist-packages (from ai_foundations==0.1.0) (5.24.1)\n",
            "Requirement already satisfied: IPython==7.34.0 in /usr/local/lib/python3.12/dist-packages (from ai_foundations==0.1.0) (7.34.0)\n",
            "Requirement already satisfied: absl-py in /usr/local/lib/python3.12/dist-packages (from gemma==3.0.0->ai_foundations==0.1.0) (1.4.0)\n",
            "Requirement already satisfied: etils[edc,enp,epath,epy,etree] in /usr/local/lib/python3.12/dist-packages (from gemma==3.0.0->ai_foundations==0.1.0) (1.13.0)\n",
            "Requirement already satisfied: einops in /usr/local/lib/python3.12/dist-packages (from gemma==3.0.0->ai_foundations==0.1.0) (0.8.1)\n",
            "Collecting grain (from gemma==3.0.0->ai_foundations==0.1.0)\n",
            "  Downloading grain-0.2.13-cp312-cp312-manylinux2014_x86_64.manylinux_2_17_x86_64.whl.metadata (16 kB)\n",
            "Collecting jaxtyping (from gemma==3.0.0->ai_foundations==0.1.0)\n",
            "  Downloading jaxtyping-0.3.3-py3-none-any.whl.metadata (7.8 kB)\n",
            "Collecting kauldron (from gemma==3.0.0->ai_foundations==0.1.0)\n",
            "  Downloading kauldron-1.3.0-py3-none-any.whl.metadata (3.3 kB)\n",
            "Requirement already satisfied: flax in /usr/local/lib/python3.12/dist-packages (from gemma==3.0.0->ai_foundations==0.1.0) (0.10.7)\n",
            "Requirement already satisfied: orbax-checkpoint in /usr/local/lib/python3.12/dist-packages (from gemma==3.0.0->ai_foundations==0.1.0) (0.11.25)\n",
            "Requirement already satisfied: sentencepiece in /usr/local/lib/python3.12/dist-packages (from gemma==3.0.0->ai_foundations==0.1.0) (0.2.1)\n",
            "Requirement already satisfied: treescope in /usr/local/lib/python3.12/dist-packages (from gemma==3.0.0->ai_foundations==0.1.0) (0.1.10)\n",
            "Requirement already satisfied: setuptools>=18.5 in /usr/local/lib/python3.12/dist-packages (from IPython==7.34.0->ai_foundations==0.1.0) (75.2.0)\n",
            "Collecting jedi>=0.16 (from IPython==7.34.0->ai_foundations==0.1.0)\n",
            "  Downloading jedi-0.19.2-py2.py3-none-any.whl.metadata (22 kB)\n",
            "Requirement already satisfied: decorator in /usr/local/lib/python3.12/dist-packages (from IPython==7.34.0->ai_foundations==0.1.0) (4.4.2)\n",
            "Requirement already satisfied: pickleshare in /usr/local/lib/python3.12/dist-packages (from IPython==7.34.0->ai_foundations==0.1.0) (0.7.5)\n",
            "Requirement already satisfied: traitlets>=4.2 in /usr/local/lib/python3.12/dist-packages (from IPython==7.34.0->ai_foundations==0.1.0) (5.7.1)\n",
            "Requirement already satisfied: prompt-toolkit!=3.0.0,!=3.0.1,<3.1.0,>=2.0.0 in /usr/local/lib/python3.12/dist-packages (from IPython==7.34.0->ai_foundations==0.1.0) (3.0.52)\n",
            "Requirement already satisfied: pygments in /usr/local/lib/python3.12/dist-packages (from IPython==7.34.0->ai_foundations==0.1.0) (2.19.2)\n",
            "Requirement already satisfied: backcall in /usr/local/lib/python3.12/dist-packages (from IPython==7.34.0->ai_foundations==0.1.0) (0.2.0)\n",
            "Requirement already satisfied: matplotlib-inline in /usr/local/lib/python3.12/dist-packages (from IPython==7.34.0->ai_foundations==0.1.0) (0.1.7)\n",
            "Requirement already satisfied: pexpect>4.3 in /usr/local/lib/python3.12/dist-packages (from IPython==7.34.0->ai_foundations==0.1.0) (4.9.0)\n",
            "Requirement already satisfied: jaxlib<=0.7.2,>=0.7.2 in /usr/local/lib/python3.12/dist-packages (from jax==0.7.2->ai_foundations==0.1.0) (0.7.2)\n",
            "Requirement already satisfied: ml_dtypes>=0.5.0 in /usr/local/lib/python3.12/dist-packages (from jax==0.7.2->ai_foundations==0.1.0) (0.5.3)\n",
            "Requirement already satisfied: opt_einsum in /usr/local/lib/python3.12/dist-packages (from jax==0.7.2->ai_foundations==0.1.0) (3.4.0)\n",
            "Requirement already satisfied: scipy>=1.13 in /usr/local/lib/python3.12/dist-packages (from jax==0.7.2->ai_foundations==0.1.0) (1.16.2)\n",
            "Requirement already satisfied: rich in /usr/local/lib/python3.12/dist-packages (from keras==3.10.0->ai_foundations==0.1.0) (13.9.4)\n",
            "Requirement already satisfied: namex in /usr/local/lib/python3.12/dist-packages (from keras==3.10.0->ai_foundations==0.1.0) (0.1.0)\n",
            "Requirement already satisfied: h5py in /usr/local/lib/python3.12/dist-packages (from keras==3.10.0->ai_foundations==0.1.0) (3.15.1)\n",
            "Requirement already satisfied: optree in /usr/local/lib/python3.12/dist-packages (from keras==3.10.0->ai_foundations==0.1.0) (0.17.0)\n",
            "Requirement already satisfied: packaging in /usr/local/lib/python3.12/dist-packages (from keras==3.10.0->ai_foundations==0.1.0) (25.0)\n",
            "Requirement already satisfied: python-dateutil>=2.8.2 in /usr/local/lib/python3.12/dist-packages (from pandas==2.2.2->ai_foundations==0.1.0) (2.9.0.post0)\n",
            "Requirement already satisfied: pytz>=2020.1 in /usr/local/lib/python3.12/dist-packages (from pandas==2.2.2->ai_foundations==0.1.0) (2025.2)\n",
            "Requirement already satisfied: tzdata>=2022.7 in /usr/local/lib/python3.12/dist-packages (from pandas==2.2.2->ai_foundations==0.1.0) (2025.2)\n",
            "Requirement already satisfied: tenacity>=6.2.0 in /usr/local/lib/python3.12/dist-packages (from plotly==5.24.1->ai_foundations==0.1.0) (8.5.0)\n",
            "Requirement already satisfied: parso<0.9.0,>=0.8.4 in /usr/local/lib/python3.12/dist-packages (from jedi>=0.16->IPython==7.34.0->ai_foundations==0.1.0) (0.8.5)\n",
            "Requirement already satisfied: ptyprocess>=0.5 in /usr/local/lib/python3.12/dist-packages (from pexpect>4.3->IPython==7.34.0->ai_foundations==0.1.0) (0.7.0)\n",
            "Requirement already satisfied: wcwidth in /usr/local/lib/python3.12/dist-packages (from prompt-toolkit!=3.0.0,!=3.0.1,<3.1.0,>=2.0.0->IPython==7.34.0->ai_foundations==0.1.0) (0.2.14)\n",
            "Requirement already satisfied: six>=1.5 in /usr/local/lib/python3.12/dist-packages (from python-dateutil>=2.8.2->pandas==2.2.2->ai_foundations==0.1.0) (1.17.0)\n",
            "Requirement already satisfied: fsspec in /usr/local/lib/python3.12/dist-packages (from etils[edc,enp,epath,epy,etree]->gemma==3.0.0->ai_foundations==0.1.0) (2025.3.0)\n",
            "Requirement already satisfied: importlib_resources in /usr/local/lib/python3.12/dist-packages (from etils[edc,enp,epath,epy,etree]->gemma==3.0.0->ai_foundations==0.1.0) (6.5.2)\n",
            "Requirement already satisfied: typing_extensions in /usr/local/lib/python3.12/dist-packages (from etils[edc,enp,epath,epy,etree]->gemma==3.0.0->ai_foundations==0.1.0) (4.15.0)\n",
            "Requirement already satisfied: zipp in /usr/local/lib/python3.12/dist-packages (from etils[edc,enp,epath,epy,etree]->gemma==3.0.0->ai_foundations==0.1.0) (3.23.0)\n",
            "Requirement already satisfied: msgpack in /usr/local/lib/python3.12/dist-packages (from flax->gemma==3.0.0->ai_foundations==0.1.0) (1.1.2)\n",
            "Requirement already satisfied: optax in /usr/local/lib/python3.12/dist-packages (from flax->gemma==3.0.0->ai_foundations==0.1.0) (0.2.6)\n",
            "Requirement already satisfied: tensorstore in /usr/local/lib/python3.12/dist-packages (from flax->gemma==3.0.0->ai_foundations==0.1.0) (0.1.78)\n",
            "Requirement already satisfied: PyYAML>=5.4.1 in /usr/local/lib/python3.12/dist-packages (from flax->gemma==3.0.0->ai_foundations==0.1.0) (6.0.3)\n",
            "Requirement already satisfied: markdown-it-py>=2.2.0 in /usr/local/lib/python3.12/dist-packages (from rich->keras==3.10.0->ai_foundations==0.1.0) (4.0.0)\n",
            "Requirement already satisfied: array-record>=0.8.0a1 in /usr/local/lib/python3.12/dist-packages (from grain->gemma==3.0.0->ai_foundations==0.1.0) (0.8.1)\n",
            "Requirement already satisfied: cloudpickle in /usr/local/lib/python3.12/dist-packages (from grain->gemma==3.0.0->ai_foundations==0.1.0) (3.1.1)\n",
            "Requirement already satisfied: dm-tree in /usr/local/lib/python3.12/dist-packages (from grain->gemma==3.0.0->ai_foundations==0.1.0) (0.1.9)\n",
            "Requirement already satisfied: more-itertools>=9.1.0 in /usr/local/lib/python3.12/dist-packages (from grain->gemma==3.0.0->ai_foundations==0.1.0) (10.8.0)\n",
            "Requirement already satisfied: protobuf>=5.28.3 in /usr/local/lib/python3.12/dist-packages (from grain->gemma==3.0.0->ai_foundations==0.1.0) (5.29.5)\n",
            "Collecting wadler-lindig>=0.1.3 (from jaxtyping->gemma==3.0.0->ai_foundations==0.1.0)\n",
            "  Downloading wadler_lindig-0.1.7-py3-none-any.whl.metadata (17 kB)\n",
            "Requirement already satisfied: altair in /usr/local/lib/python3.12/dist-packages (from kauldron->gemma==3.0.0->ai_foundations==0.1.0) (5.5.0)\n",
            "Requirement already satisfied: chex in /usr/local/lib/python3.12/dist-packages (from kauldron->gemma==3.0.0->ai_foundations==0.1.0) (0.1.90)\n",
            "Collecting clu (from kauldron->gemma==3.0.0->ai_foundations==0.1.0)\n",
            "  Downloading clu-0.0.12-py3-none-any.whl.metadata (1.9 kB)\n",
            "Requirement already satisfied: graphviz in /usr/local/lib/python3.12/dist-packages (from kauldron->gemma==3.0.0->ai_foundations==0.1.0) (0.21)\n",
            "Requirement already satisfied: immutabledict in /usr/local/lib/python3.12/dist-packages (from kauldron->gemma==3.0.0->ai_foundations==0.1.0) (4.2.2)\n",
            "Requirement already satisfied: lark in /usr/local/lib/python3.12/dist-packages (from kauldron->gemma==3.0.0->ai_foundations==0.1.0) (1.3.0)\n",
            "Collecting mediapy (from kauldron->gemma==3.0.0->ai_foundations==0.1.0)\n",
            "  Downloading mediapy-1.2.4-py3-none-any.whl.metadata (4.8 kB)\n",
            "Collecting ml_collections (from kauldron->gemma==3.0.0->ai_foundations==0.1.0)\n",
            "  Downloading ml_collections-1.1.0-py3-none-any.whl.metadata (22 kB)\n",
            "Requirement already satisfied: opencv-python in /usr/local/lib/python3.12/dist-packages (from kauldron->gemma==3.0.0->ai_foundations==0.1.0) (4.12.0.88)\n",
            "Requirement already satisfied: scikit-image in /usr/local/lib/python3.12/dist-packages (from kauldron->gemma==3.0.0->ai_foundations==0.1.0) (0.25.2)\n",
            "Requirement already satisfied: scikit-learn in /usr/local/lib/python3.12/dist-packages (from kauldron->gemma==3.0.0->ai_foundations==0.1.0) (1.6.1)\n",
            "Requirement already satisfied: tabulate in /usr/local/lib/python3.12/dist-packages (from kauldron->gemma==3.0.0->ai_foundations==0.1.0) (0.9.0)\n",
            "Requirement already satisfied: tensorflow in /usr/local/lib/python3.12/dist-packages (from kauldron->gemma==3.0.0->ai_foundations==0.1.0) (2.19.0)\n",
            "Requirement already satisfied: tensorflow_datasets>=4.9.7 in /usr/local/lib/python3.12/dist-packages (from kauldron->gemma==3.0.0->ai_foundations==0.1.0) (4.9.9)\n",
            "Requirement already satisfied: tqdm in /usr/local/lib/python3.12/dist-packages (from kauldron->gemma==3.0.0->ai_foundations==0.1.0) (4.67.1)\n",
            "Requirement already satisfied: typeguard>=4.4.1 in /usr/local/lib/python3.12/dist-packages (from kauldron->gemma==3.0.0->ai_foundations==0.1.0) (4.4.4)\n",
            "Collecting xmanager (from kauldron->gemma==3.0.0->ai_foundations==0.1.0)\n",
            "  Downloading xmanager-0.7.1-py3-none-any.whl.metadata (12 kB)\n",
            "Requirement already satisfied: nest_asyncio in /usr/local/lib/python3.12/dist-packages (from orbax-checkpoint->gemma==3.0.0->ai_foundations==0.1.0) (1.6.0)\n",
            "Requirement already satisfied: aiofiles in /usr/local/lib/python3.12/dist-packages (from orbax-checkpoint->gemma==3.0.0->ai_foundations==0.1.0) (24.1.0)\n",
            "Requirement already satisfied: humanize in /usr/local/lib/python3.12/dist-packages (from orbax-checkpoint->gemma==3.0.0->ai_foundations==0.1.0) (4.14.0)\n",
            "Requirement already satisfied: simplejson>=3.16.0 in /usr/local/lib/python3.12/dist-packages (from orbax-checkpoint->gemma==3.0.0->ai_foundations==0.1.0) (3.20.2)\n",
            "Requirement already satisfied: mdurl~=0.1 in /usr/local/lib/python3.12/dist-packages (from markdown-it-py>=2.2.0->rich->keras==3.10.0->ai_foundations==0.1.0) (0.1.2)\n",
            "Requirement already satisfied: promise in /usr/local/lib/python3.12/dist-packages (from tensorflow_datasets>=4.9.7->kauldron->gemma==3.0.0->ai_foundations==0.1.0) (2.3)\n",
            "Requirement already satisfied: psutil in /usr/local/lib/python3.12/dist-packages (from tensorflow_datasets>=4.9.7->kauldron->gemma==3.0.0->ai_foundations==0.1.0) (5.9.5)\n",
            "Requirement already satisfied: pyarrow in /usr/local/lib/python3.12/dist-packages (from tensorflow_datasets>=4.9.7->kauldron->gemma==3.0.0->ai_foundations==0.1.0) (18.1.0)\n",
            "Requirement already satisfied: requests>=2.19.0 in /usr/local/lib/python3.12/dist-packages (from tensorflow_datasets>=4.9.7->kauldron->gemma==3.0.0->ai_foundations==0.1.0) (2.32.4)\n",
            "Requirement already satisfied: simple_parsing in /usr/local/lib/python3.12/dist-packages (from tensorflow_datasets>=4.9.7->kauldron->gemma==3.0.0->ai_foundations==0.1.0) (0.1.7)\n",
            "Requirement already satisfied: tensorflow-metadata in /usr/local/lib/python3.12/dist-packages (from tensorflow_datasets>=4.9.7->kauldron->gemma==3.0.0->ai_foundations==0.1.0) (1.17.2)\n",
            "Requirement already satisfied: termcolor in /usr/local/lib/python3.12/dist-packages (from tensorflow_datasets>=4.9.7->kauldron->gemma==3.0.0->ai_foundations==0.1.0) (3.1.0)\n",
            "Requirement already satisfied: toml in /usr/local/lib/python3.12/dist-packages (from tensorflow_datasets>=4.9.7->kauldron->gemma==3.0.0->ai_foundations==0.1.0) (0.10.2)\n",
            "Requirement already satisfied: wrapt in /usr/local/lib/python3.12/dist-packages (from tensorflow_datasets>=4.9.7->kauldron->gemma==3.0.0->ai_foundations==0.1.0) (2.0.0)\n",
            "Requirement already satisfied: jinja2 in /usr/local/lib/python3.12/dist-packages (from altair->kauldron->gemma==3.0.0->ai_foundations==0.1.0) (3.1.6)\n",
            "Requirement already satisfied: jsonschema>=3.0 in /usr/local/lib/python3.12/dist-packages (from altair->kauldron->gemma==3.0.0->ai_foundations==0.1.0) (4.25.1)\n",
            "Requirement already satisfied: narwhals>=1.14.2 in /usr/local/lib/python3.12/dist-packages (from altair->kauldron->gemma==3.0.0->ai_foundations==0.1.0) (2.9.0)\n",
            "Requirement already satisfied: toolz>=0.9.0 in /usr/local/lib/python3.12/dist-packages (from chex->kauldron->gemma==3.0.0->ai_foundations==0.1.0) (0.12.1)\n",
            "Requirement already satisfied: attrs>=18.2.0 in /usr/local/lib/python3.12/dist-packages (from dm-tree->grain->gemma==3.0.0->ai_foundations==0.1.0) (25.4.0)\n",
            "Requirement already satisfied: matplotlib in /usr/local/lib/python3.12/dist-packages (from mediapy->kauldron->gemma==3.0.0->ai_foundations==0.1.0) (3.10.0)\n",
            "Requirement already satisfied: Pillow in /usr/local/lib/python3.12/dist-packages (from mediapy->kauldron->gemma==3.0.0->ai_foundations==0.1.0) (11.3.0)\n",
            "Requirement already satisfied: networkx>=3.0 in /usr/local/lib/python3.12/dist-packages (from scikit-image->kauldron->gemma==3.0.0->ai_foundations==0.1.0) (3.5)\n",
            "Requirement already satisfied: imageio!=2.35.0,>=2.33 in /usr/local/lib/python3.12/dist-packages (from scikit-image->kauldron->gemma==3.0.0->ai_foundations==0.1.0) (2.37.0)\n",
            "Requirement already satisfied: tifffile>=2022.8.12 in /usr/local/lib/python3.12/dist-packages (from scikit-image->kauldron->gemma==3.0.0->ai_foundations==0.1.0) (2025.10.16)\n",
            "Requirement already satisfied: lazy-loader>=0.4 in /usr/local/lib/python3.12/dist-packages (from scikit-image->kauldron->gemma==3.0.0->ai_foundations==0.1.0) (0.4)\n",
            "Requirement already satisfied: joblib>=1.2.0 in /usr/local/lib/python3.12/dist-packages (from scikit-learn->kauldron->gemma==3.0.0->ai_foundations==0.1.0) (1.5.2)\n",
            "Requirement already satisfied: threadpoolctl>=3.1.0 in /usr/local/lib/python3.12/dist-packages (from scikit-learn->kauldron->gemma==3.0.0->ai_foundations==0.1.0) (3.6.0)\n",
            "Requirement already satisfied: astunparse>=1.6.0 in /usr/local/lib/python3.12/dist-packages (from tensorflow->kauldron->gemma==3.0.0->ai_foundations==0.1.0) (1.6.3)\n",
            "Requirement already satisfied: flatbuffers>=24.3.25 in /usr/local/lib/python3.12/dist-packages (from tensorflow->kauldron->gemma==3.0.0->ai_foundations==0.1.0) (25.9.23)\n",
            "Requirement already satisfied: gast!=0.5.0,!=0.5.1,!=0.5.2,>=0.2.1 in /usr/local/lib/python3.12/dist-packages (from tensorflow->kauldron->gemma==3.0.0->ai_foundations==0.1.0) (0.6.0)\n",
            "Requirement already satisfied: google-pasta>=0.1.1 in /usr/local/lib/python3.12/dist-packages (from tensorflow->kauldron->gemma==3.0.0->ai_foundations==0.1.0) (0.2.0)\n",
            "Requirement already satisfied: libclang>=13.0.0 in /usr/local/lib/python3.12/dist-packages (from tensorflow->kauldron->gemma==3.0.0->ai_foundations==0.1.0) (18.1.1)\n",
            "Requirement already satisfied: grpcio<2.0,>=1.24.3 in /usr/local/lib/python3.12/dist-packages (from tensorflow->kauldron->gemma==3.0.0->ai_foundations==0.1.0) (1.75.1)\n",
            "Requirement already satisfied: tensorboard~=2.19.0 in /usr/local/lib/python3.12/dist-packages (from tensorflow->kauldron->gemma==3.0.0->ai_foundations==0.1.0) (2.19.0)\n",
            "Collecting alembic==1.4.3 (from xmanager->kauldron->gemma==3.0.0->ai_foundations==0.1.0)\n",
            "  Downloading alembic-1.4.3-py2.py3-none-any.whl.metadata (7.0 kB)\n",
            "Collecting async_generator (from xmanager->kauldron->gemma==3.0.0->ai_foundations==0.1.0)\n",
            "  Downloading async_generator-1.10-py3-none-any.whl.metadata (4.9 kB)\n",
            "Collecting cloud-sql-python-connector (from xmanager->kauldron->gemma==3.0.0->ai_foundations==0.1.0)\n",
            "  Downloading cloud_sql_python_connector-1.18.5-py3-none-any.whl.metadata (30 kB)\n",
            "Collecting docker (from xmanager->kauldron->gemma==3.0.0->ai_foundations==0.1.0)\n",
            "  Downloading docker-7.1.0-py3-none-any.whl.metadata (3.8 kB)\n",
            "Requirement already satisfied: google-api-core in /usr/local/lib/python3.12/dist-packages (from xmanager->kauldron->gemma==3.0.0->ai_foundations==0.1.0) (2.26.0)\n",
            "Requirement already satisfied: google-api-python-client in /usr/local/lib/python3.12/dist-packages (from xmanager->kauldron->gemma==3.0.0->ai_foundations==0.1.0) (2.185.0)\n",
            "Requirement already satisfied: google-auth in /usr/local/lib/python3.12/dist-packages (from xmanager->kauldron->gemma==3.0.0->ai_foundations==0.1.0) (2.38.0)\n",
            "Requirement already satisfied: google-cloud-aiplatform in /usr/local/lib/python3.12/dist-packages (from xmanager->kauldron->gemma==3.0.0->ai_foundations==0.1.0) (1.121.0)\n",
            "Requirement already satisfied: google-cloud-storage in /usr/local/lib/python3.12/dist-packages (from xmanager->kauldron->gemma==3.0.0->ai_foundations==0.1.0) (2.19.0)\n",
            "Collecting kubernetes (from xmanager->kauldron->gemma==3.0.0->ai_foundations==0.1.0)\n",
            "  Downloading kubernetes-34.1.0-py2.py3-none-any.whl.metadata (1.7 kB)\n",
            "Collecting sqlalchemy==1.2.19 (from xmanager->kauldron->gemma==3.0.0->ai_foundations==0.1.0)\n",
            "  Downloading SQLAlchemy-1.2.19.tar.gz (5.7 MB)\n",
            "\u001b[2K     \u001b[90m━━━━━━━━━━━━━━━━━━━━━━━━━━━━━━━━━━━━━━━━\u001b[0m \u001b[32m5.7/5.7 MB\u001b[0m \u001b[31m50.9 MB/s\u001b[0m eta \u001b[36m0:00:00\u001b[0m\n",
            "\u001b[?25h  Preparing metadata (setup.py) ... \u001b[?25l\u001b[?25hdone\n",
            "Requirement already satisfied: sqlparse in /usr/local/lib/python3.12/dist-packages (from xmanager->kauldron->gemma==3.0.0->ai_foundations==0.1.0) (0.5.3)\n",
            "Requirement already satisfied: Mako in /usr/local/lib/python3.12/dist-packages (from alembic==1.4.3->xmanager->kauldron->gemma==3.0.0->ai_foundations==0.1.0) (1.3.10)\n",
            "Collecting python-editor>=0.3 (from alembic==1.4.3->xmanager->kauldron->gemma==3.0.0->ai_foundations==0.1.0)\n",
            "  Downloading python_editor-1.0.4-py3-none-any.whl.metadata (2.2 kB)\n",
            "Requirement already satisfied: wheel<1.0,>=0.23.0 in /usr/local/lib/python3.12/dist-packages (from astunparse>=1.6.0->tensorflow->kauldron->gemma==3.0.0->ai_foundations==0.1.0) (0.45.1)\n",
            "Requirement already satisfied: jsonschema-specifications>=2023.03.6 in /usr/local/lib/python3.12/dist-packages (from jsonschema>=3.0->altair->kauldron->gemma==3.0.0->ai_foundations==0.1.0) (2025.9.1)\n",
            "Requirement already satisfied: referencing>=0.28.4 in /usr/local/lib/python3.12/dist-packages (from jsonschema>=3.0->altair->kauldron->gemma==3.0.0->ai_foundations==0.1.0) (0.37.0)\n",
            "Requirement already satisfied: rpds-py>=0.7.1 in /usr/local/lib/python3.12/dist-packages (from jsonschema>=3.0->altair->kauldron->gemma==3.0.0->ai_foundations==0.1.0) (0.27.1)\n",
            "Requirement already satisfied: charset_normalizer<4,>=2 in /usr/local/lib/python3.12/dist-packages (from requests>=2.19.0->tensorflow_datasets>=4.9.7->kauldron->gemma==3.0.0->ai_foundations==0.1.0) (3.4.4)\n",
            "Requirement already satisfied: idna<4,>=2.5 in /usr/local/lib/python3.12/dist-packages (from requests>=2.19.0->tensorflow_datasets>=4.9.7->kauldron->gemma==3.0.0->ai_foundations==0.1.0) (3.11)\n",
            "Requirement already satisfied: urllib3<3,>=1.21.1 in /usr/local/lib/python3.12/dist-packages (from requests>=2.19.0->tensorflow_datasets>=4.9.7->kauldron->gemma==3.0.0->ai_foundations==0.1.0) (2.5.0)\n",
            "Requirement already satisfied: certifi>=2017.4.17 in /usr/local/lib/python3.12/dist-packages (from requests>=2.19.0->tensorflow_datasets>=4.9.7->kauldron->gemma==3.0.0->ai_foundations==0.1.0) (2025.10.5)\n",
            "Requirement already satisfied: markdown>=2.6.8 in /usr/local/lib/python3.12/dist-packages (from tensorboard~=2.19.0->tensorflow->kauldron->gemma==3.0.0->ai_foundations==0.1.0) (3.9)\n",
            "Requirement already satisfied: tensorboard-data-server<0.8.0,>=0.7.0 in /usr/local/lib/python3.12/dist-packages (from tensorboard~=2.19.0->tensorflow->kauldron->gemma==3.0.0->ai_foundations==0.1.0) (0.7.2)\n",
            "Requirement already satisfied: werkzeug>=1.0.1 in /usr/local/lib/python3.12/dist-packages (from tensorboard~=2.19.0->tensorflow->kauldron->gemma==3.0.0->ai_foundations==0.1.0) (3.1.3)\n",
            "Requirement already satisfied: aiohttp in /usr/local/lib/python3.12/dist-packages (from cloud-sql-python-connector->xmanager->kauldron->gemma==3.0.0->ai_foundations==0.1.0) (3.13.1)\n",
            "Requirement already satisfied: cryptography>=42.0.0 in /usr/local/lib/python3.12/dist-packages (from cloud-sql-python-connector->xmanager->kauldron->gemma==3.0.0->ai_foundations==0.1.0) (43.0.3)\n",
            "Collecting dnspython>=2.0.0 (from cloud-sql-python-connector->xmanager->kauldron->gemma==3.0.0->ai_foundations==0.1.0)\n",
            "  Downloading dnspython-2.8.0-py3-none-any.whl.metadata (5.7 kB)\n",
            "Requirement already satisfied: cachetools<6.0,>=2.0.0 in /usr/local/lib/python3.12/dist-packages (from google-auth->xmanager->kauldron->gemma==3.0.0->ai_foundations==0.1.0) (5.5.2)\n",
            "Requirement already satisfied: pyasn1-modules>=0.2.1 in /usr/local/lib/python3.12/dist-packages (from google-auth->xmanager->kauldron->gemma==3.0.0->ai_foundations==0.1.0) (0.4.2)\n",
            "Requirement already satisfied: rsa<5,>=3.1.4 in /usr/local/lib/python3.12/dist-packages (from google-auth->xmanager->kauldron->gemma==3.0.0->ai_foundations==0.1.0) (4.9.1)\n",
            "Requirement already satisfied: googleapis-common-protos<2.0.0,>=1.56.2 in /usr/local/lib/python3.12/dist-packages (from google-api-core->xmanager->kauldron->gemma==3.0.0->ai_foundations==0.1.0) (1.71.0)\n",
            "Requirement already satisfied: proto-plus<2.0.0,>=1.22.3 in /usr/local/lib/python3.12/dist-packages (from google-api-core->xmanager->kauldron->gemma==3.0.0->ai_foundations==0.1.0) (1.26.1)\n",
            "Requirement already satisfied: httplib2<1.0.0,>=0.19.0 in /usr/local/lib/python3.12/dist-packages (from google-api-python-client->xmanager->kauldron->gemma==3.0.0->ai_foundations==0.1.0) (0.31.0)\n",
            "Requirement already satisfied: google-auth-httplib2<1.0.0,>=0.2.0 in /usr/local/lib/python3.12/dist-packages (from google-api-python-client->xmanager->kauldron->gemma==3.0.0->ai_foundations==0.1.0) (0.2.0)\n",
            "Requirement already satisfied: uritemplate<5,>=3.0.1 in /usr/local/lib/python3.12/dist-packages (from google-api-python-client->xmanager->kauldron->gemma==3.0.0->ai_foundations==0.1.0) (4.2.0)\n",
            "Requirement already satisfied: google-cloud-bigquery!=3.20.0,<4.0.0,>=1.15.0 in /usr/local/lib/python3.12/dist-packages (from google-cloud-aiplatform->xmanager->kauldron->gemma==3.0.0->ai_foundations==0.1.0) (3.38.0)\n",
            "Requirement already satisfied: google-cloud-resource-manager<3.0.0,>=1.3.3 in /usr/local/lib/python3.12/dist-packages (from google-cloud-aiplatform->xmanager->kauldron->gemma==3.0.0->ai_foundations==0.1.0) (1.15.0)\n",
            "Requirement already satisfied: shapely<3.0.0 in /usr/local/lib/python3.12/dist-packages (from google-cloud-aiplatform->xmanager->kauldron->gemma==3.0.0->ai_foundations==0.1.0) (2.1.2)\n",
            "Requirement already satisfied: google-genai<2.0.0,>=1.37.0 in /usr/local/lib/python3.12/dist-packages (from google-cloud-aiplatform->xmanager->kauldron->gemma==3.0.0->ai_foundations==0.1.0) (1.45.0)\n",
            "Requirement already satisfied: pydantic<3 in /usr/local/lib/python3.12/dist-packages (from google-cloud-aiplatform->xmanager->kauldron->gemma==3.0.0->ai_foundations==0.1.0) (2.11.10)\n",
            "Requirement already satisfied: docstring_parser<1 in /usr/local/lib/python3.12/dist-packages (from google-cloud-aiplatform->xmanager->kauldron->gemma==3.0.0->ai_foundations==0.1.0) (0.17.0)\n",
            "Requirement already satisfied: google-cloud-core<3.0dev,>=2.3.0 in /usr/local/lib/python3.12/dist-packages (from google-cloud-storage->xmanager->kauldron->gemma==3.0.0->ai_foundations==0.1.0) (2.4.3)\n",
            "Requirement already satisfied: google-resumable-media>=2.7.2 in /usr/local/lib/python3.12/dist-packages (from google-cloud-storage->xmanager->kauldron->gemma==3.0.0->ai_foundations==0.1.0) (2.7.2)\n",
            "Requirement already satisfied: google-crc32c<2.0dev,>=1.0 in /usr/local/lib/python3.12/dist-packages (from google-cloud-storage->xmanager->kauldron->gemma==3.0.0->ai_foundations==0.1.0) (1.7.1)\n",
            "Requirement already satisfied: MarkupSafe>=2.0 in /usr/local/lib/python3.12/dist-packages (from jinja2->altair->kauldron->gemma==3.0.0->ai_foundations==0.1.0) (3.0.3)\n",
            "Requirement already satisfied: websocket-client!=0.40.0,!=0.41.*,!=0.42.*,>=0.32.0 in /usr/local/lib/python3.12/dist-packages (from kubernetes->xmanager->kauldron->gemma==3.0.0->ai_foundations==0.1.0) (1.9.0)\n",
            "Requirement already satisfied: requests-oauthlib in /usr/local/lib/python3.12/dist-packages (from kubernetes->xmanager->kauldron->gemma==3.0.0->ai_foundations==0.1.0) (2.0.0)\n",
            "Collecting urllib3<3,>=1.21.1 (from requests>=2.19.0->tensorflow_datasets>=4.9.7->kauldron->gemma==3.0.0->ai_foundations==0.1.0)\n",
            "  Downloading urllib3-2.3.0-py3-none-any.whl.metadata (6.5 kB)\n",
            "Collecting durationpy>=0.7 (from kubernetes->xmanager->kauldron->gemma==3.0.0->ai_foundations==0.1.0)\n",
            "  Downloading durationpy-0.10-py3-none-any.whl.metadata (340 bytes)\n",
            "Requirement already satisfied: contourpy>=1.0.1 in /usr/local/lib/python3.12/dist-packages (from matplotlib->mediapy->kauldron->gemma==3.0.0->ai_foundations==0.1.0) (1.3.3)\n",
            "Requirement already satisfied: cycler>=0.10 in /usr/local/lib/python3.12/dist-packages (from matplotlib->mediapy->kauldron->gemma==3.0.0->ai_foundations==0.1.0) (0.12.1)\n",
            "Requirement already satisfied: fonttools>=4.22.0 in /usr/local/lib/python3.12/dist-packages (from matplotlib->mediapy->kauldron->gemma==3.0.0->ai_foundations==0.1.0) (4.60.1)\n",
            "Requirement already satisfied: kiwisolver>=1.3.1 in /usr/local/lib/python3.12/dist-packages (from matplotlib->mediapy->kauldron->gemma==3.0.0->ai_foundations==0.1.0) (1.4.9)\n",
            "Requirement already satisfied: pyparsing>=2.3.1 in /usr/local/lib/python3.12/dist-packages (from matplotlib->mediapy->kauldron->gemma==3.0.0->ai_foundations==0.1.0) (3.2.5)\n",
            "Requirement already satisfied: cffi>=1.12 in /usr/local/lib/python3.12/dist-packages (from cryptography>=42.0.0->cloud-sql-python-connector->xmanager->kauldron->gemma==3.0.0->ai_foundations==0.1.0) (2.0.0)\n",
            "Requirement already satisfied: grpcio-status<2.0.0,>=1.33.2 in /usr/local/lib/python3.12/dist-packages (from google-api-core[grpc]!=2.0.*,!=2.1.*,!=2.2.*,!=2.3.*,!=2.4.*,!=2.5.*,!=2.6.*,!=2.7.*,<3.0.0,>=1.34.1->google-cloud-aiplatform->xmanager->kauldron->gemma==3.0.0->ai_foundations==0.1.0) (1.71.2)\n",
            "Requirement already satisfied: grpc-google-iam-v1<1.0.0,>=0.14.0 in /usr/local/lib/python3.12/dist-packages (from google-cloud-resource-manager<3.0.0,>=1.3.3->google-cloud-aiplatform->xmanager->kauldron->gemma==3.0.0->ai_foundations==0.1.0) (0.14.3)\n",
            "Requirement already satisfied: anyio<5.0.0,>=4.8.0 in /usr/local/lib/python3.12/dist-packages (from google-genai<2.0.0,>=1.37.0->google-cloud-aiplatform->xmanager->kauldron->gemma==3.0.0->ai_foundations==0.1.0) (4.11.0)\n",
            "Requirement already satisfied: httpx<1.0.0,>=0.28.1 in /usr/local/lib/python3.12/dist-packages (from google-genai<2.0.0,>=1.37.0->google-cloud-aiplatform->xmanager->kauldron->gemma==3.0.0->ai_foundations==0.1.0) (0.28.1)\n",
            "Requirement already satisfied: websockets<15.1.0,>=13.0.0 in /usr/local/lib/python3.12/dist-packages (from google-genai<2.0.0,>=1.37.0->google-cloud-aiplatform->xmanager->kauldron->gemma==3.0.0->ai_foundations==0.1.0) (15.0.1)\n",
            "Requirement already satisfied: pyasn1<0.7.0,>=0.6.1 in /usr/local/lib/python3.12/dist-packages (from pyasn1-modules>=0.2.1->google-auth->xmanager->kauldron->gemma==3.0.0->ai_foundations==0.1.0) (0.6.1)\n",
            "Requirement already satisfied: annotated-types>=0.6.0 in /usr/local/lib/python3.12/dist-packages (from pydantic<3->google-cloud-aiplatform->xmanager->kauldron->gemma==3.0.0->ai_foundations==0.1.0) (0.7.0)\n",
            "Requirement already satisfied: pydantic-core==2.33.2 in /usr/local/lib/python3.12/dist-packages (from pydantic<3->google-cloud-aiplatform->xmanager->kauldron->gemma==3.0.0->ai_foundations==0.1.0) (2.33.2)\n",
            "Requirement already satisfied: typing-inspection>=0.4.0 in /usr/local/lib/python3.12/dist-packages (from pydantic<3->google-cloud-aiplatform->xmanager->kauldron->gemma==3.0.0->ai_foundations==0.1.0) (0.4.2)\n",
            "Requirement already satisfied: aiohappyeyeballs>=2.5.0 in /usr/local/lib/python3.12/dist-packages (from aiohttp->cloud-sql-python-connector->xmanager->kauldron->gemma==3.0.0->ai_foundations==0.1.0) (2.6.1)\n",
            "Requirement already satisfied: aiosignal>=1.4.0 in /usr/local/lib/python3.12/dist-packages (from aiohttp->cloud-sql-python-connector->xmanager->kauldron->gemma==3.0.0->ai_foundations==0.1.0) (1.4.0)\n",
            "Requirement already satisfied: frozenlist>=1.1.1 in /usr/local/lib/python3.12/dist-packages (from aiohttp->cloud-sql-python-connector->xmanager->kauldron->gemma==3.0.0->ai_foundations==0.1.0) (1.8.0)\n",
            "Requirement already satisfied: multidict<7.0,>=4.5 in /usr/local/lib/python3.12/dist-packages (from aiohttp->cloud-sql-python-connector->xmanager->kauldron->gemma==3.0.0->ai_foundations==0.1.0) (6.7.0)\n",
            "Requirement already satisfied: propcache>=0.2.0 in /usr/local/lib/python3.12/dist-packages (from aiohttp->cloud-sql-python-connector->xmanager->kauldron->gemma==3.0.0->ai_foundations==0.1.0) (0.4.1)\n",
            "Requirement already satisfied: yarl<2.0,>=1.17.0 in /usr/local/lib/python3.12/dist-packages (from aiohttp->cloud-sql-python-connector->xmanager->kauldron->gemma==3.0.0->ai_foundations==0.1.0) (1.22.0)\n",
            "Requirement already satisfied: oauthlib>=3.0.0 in /usr/local/lib/python3.12/dist-packages (from requests-oauthlib->kubernetes->xmanager->kauldron->gemma==3.0.0->ai_foundations==0.1.0) (3.3.1)\n",
            "Requirement already satisfied: sniffio>=1.1 in /usr/local/lib/python3.12/dist-packages (from anyio<5.0.0,>=4.8.0->google-genai<2.0.0,>=1.37.0->google-cloud-aiplatform->xmanager->kauldron->gemma==3.0.0->ai_foundations==0.1.0) (1.3.1)\n",
            "Requirement already satisfied: pycparser in /usr/local/lib/python3.12/dist-packages (from cffi>=1.12->cryptography>=42.0.0->cloud-sql-python-connector->xmanager->kauldron->gemma==3.0.0->ai_foundations==0.1.0) (2.23)\n",
            "Requirement already satisfied: httpcore==1.* in /usr/local/lib/python3.12/dist-packages (from httpx<1.0.0,>=0.28.1->google-genai<2.0.0,>=1.37.0->google-cloud-aiplatform->xmanager->kauldron->gemma==3.0.0->ai_foundations==0.1.0) (1.0.9)\n",
            "Requirement already satisfied: h11>=0.16 in /usr/local/lib/python3.12/dist-packages (from httpcore==1.*->httpx<1.0.0,>=0.28.1->google-genai<2.0.0,>=1.37.0->google-cloud-aiplatform->xmanager->kauldron->gemma==3.0.0->ai_foundations==0.1.0) (0.16.0)\n",
            "Downloading gemma-3.0.0-py3-none-any.whl (121 kB)\n",
            "\u001b[2K   \u001b[90m━━━━━━━━━━━━━━━━━━━━━━━━━━━━━━━━━━━━━━━━\u001b[0m \u001b[32m121.9/121.9 kB\u001b[0m \u001b[31m5.2 MB/s\u001b[0m eta \u001b[36m0:00:00\u001b[0m\n",
            "\u001b[?25hDownloading jedi-0.19.2-py2.py3-none-any.whl (1.6 MB)\n",
            "\u001b[2K   \u001b[90m━━━━━━━━━━━━━━━━━━━━━━━━━━━━━━━━━━━━━━━━\u001b[0m \u001b[32m1.6/1.6 MB\u001b[0m \u001b[31m55.2 MB/s\u001b[0m eta \u001b[36m0:00:00\u001b[0m\n",
            "\u001b[?25hDownloading grain-0.2.13-cp312-cp312-manylinux2014_x86_64.manylinux_2_17_x86_64.whl (510 kB)\n",
            "\u001b[2K   \u001b[90m━━━━━━━━━━━━━━━━━━━━━━━━━━━━━━━━━━━━━━━━\u001b[0m \u001b[32m510.5/510.5 kB\u001b[0m \u001b[31m31.4 MB/s\u001b[0m eta \u001b[36m0:00:00\u001b[0m\n",
            "\u001b[?25hDownloading jaxtyping-0.3.3-py3-none-any.whl (55 kB)\n",
            "\u001b[2K   \u001b[90m━━━━━━━━━━━━━━━━━━━━━━━━━━━━━━━━━━━━━━━━\u001b[0m \u001b[32m55.9/55.9 kB\u001b[0m \u001b[31m4.2 MB/s\u001b[0m eta \u001b[36m0:00:00\u001b[0m\n",
            "\u001b[?25hDownloading kauldron-1.3.0-py3-none-any.whl (492 kB)\n",
            "\u001b[2K   \u001b[90m━━━━━━━━━━━━━━━━━━━━━━━━━━━━━━━━━━━━━━━━\u001b[0m \u001b[32m492.3/492.3 kB\u001b[0m \u001b[31m29.1 MB/s\u001b[0m eta \u001b[36m0:00:00\u001b[0m\n",
            "\u001b[?25hDownloading wadler_lindig-0.1.7-py3-none-any.whl (20 kB)\n",
            "Downloading clu-0.0.12-py3-none-any.whl (101 kB)\n",
            "\u001b[2K   \u001b[90m━━━━━━━━━━━━━━━━━━━━━━━━━━━━━━━━━━━━━━━━\u001b[0m \u001b[32m101.8/101.8 kB\u001b[0m \u001b[31m8.2 MB/s\u001b[0m eta \u001b[36m0:00:00\u001b[0m\n",
            "\u001b[?25hDownloading mediapy-1.2.4-py3-none-any.whl (26 kB)\n",
            "Downloading ml_collections-1.1.0-py3-none-any.whl (76 kB)\n",
            "\u001b[2K   \u001b[90m━━━━━━━━━━━━━━━━━━━━━━━━━━━━━━━━━━━━━━━━\u001b[0m \u001b[32m76.7/76.7 kB\u001b[0m \u001b[31m6.3 MB/s\u001b[0m eta \u001b[36m0:00:00\u001b[0m\n",
            "\u001b[?25hDownloading xmanager-0.7.1-py3-none-any.whl (224 kB)\n",
            "\u001b[2K   \u001b[90m━━━━━━━━━━━━━━━━━━━━━━━━━━━━━━━━━━━━━━━━\u001b[0m \u001b[32m224.9/224.9 kB\u001b[0m \u001b[31m16.7 MB/s\u001b[0m eta \u001b[36m0:00:00\u001b[0m\n",
            "\u001b[?25hDownloading alembic-1.4.3-py2.py3-none-any.whl (159 kB)\n",
            "\u001b[2K   \u001b[90m━━━━━━━━━━━━━━━━━━━━━━━━━━━━━━━━━━━━━━━━\u001b[0m \u001b[32m159.9/159.9 kB\u001b[0m \u001b[31m11.9 MB/s\u001b[0m eta \u001b[36m0:00:00\u001b[0m\n",
            "\u001b[?25hDownloading async_generator-1.10-py3-none-any.whl (18 kB)\n",
            "Downloading cloud_sql_python_connector-1.18.5-py3-none-any.whl (49 kB)\n",
            "\u001b[2K   \u001b[90m━━━━━━━━━━━━━━━━━━━━━━━━━━━━━━━━━━━━━━━━\u001b[0m \u001b[32m49.4/49.4 kB\u001b[0m \u001b[31m3.6 MB/s\u001b[0m eta \u001b[36m0:00:00\u001b[0m\n",
            "\u001b[?25hDownloading docker-7.1.0-py3-none-any.whl (147 kB)\n",
            "\u001b[2K   \u001b[90m━━━━━━━━━━━━━━━━━━━━━━━━━━━━━━━━━━━━━━━━\u001b[0m \u001b[32m147.8/147.8 kB\u001b[0m \u001b[31m11.1 MB/s\u001b[0m eta \u001b[36m0:00:00\u001b[0m\n",
            "\u001b[?25hDownloading kubernetes-34.1.0-py2.py3-none-any.whl (2.0 MB)\n",
            "\u001b[2K   \u001b[90m━━━━━━━━━━━━━━━━━━━━━━━━━━━━━━━━━━━━━━━━\u001b[0m \u001b[32m2.0/2.0 MB\u001b[0m \u001b[31m60.9 MB/s\u001b[0m eta \u001b[36m0:00:00\u001b[0m\n",
            "\u001b[?25hDownloading dnspython-2.8.0-py3-none-any.whl (331 kB)\n",
            "\u001b[2K   \u001b[90m━━━━━━━━━━━━━━━━━━━━━━━━━━━━━━━━━━━━━━━━\u001b[0m \u001b[32m331.1/331.1 kB\u001b[0m \u001b[31m20.8 MB/s\u001b[0m eta \u001b[36m0:00:00\u001b[0m\n",
            "\u001b[?25hDownloading durationpy-0.10-py3-none-any.whl (3.9 kB)\n",
            "Downloading python_editor-1.0.4-py3-none-any.whl (4.9 kB)\n",
            "Downloading urllib3-2.3.0-py3-none-any.whl (128 kB)\n",
            "\u001b[2K   \u001b[90m━━━━━━━━━━━━━━━━━━━━━━━━━━━━━━━━━━━━━━━━\u001b[0m \u001b[32m128.4/128.4 kB\u001b[0m \u001b[31m9.9 MB/s\u001b[0m eta \u001b[36m0:00:00\u001b[0m\n",
            "\u001b[?25hBuilding wheels for collected packages: ai_foundations, sqlalchemy\n",
            "  Building wheel for ai_foundations (pyproject.toml) ... \u001b[?25l\u001b[?25hdone\n",
            "  Created wheel for ai_foundations: filename=ai_foundations-0.1.0-py3-none-any.whl size=107611 sha256=6984a56f28b7285a1b67b8973ba61a446ea9195a2a4592fbd88f3e8885cd64a3\n",
            "  Stored in directory: /tmp/pip-ephem-wheel-cache-ff3_n08t/wheels/9c/15/85/4a872ca79c4bf53f92f6811417945b900de3a0d8ffd3565896\n",
            "  Building wheel for sqlalchemy (setup.py) ... \u001b[?25l\u001b[?25hdone\n",
            "  Created wheel for sqlalchemy: filename=SQLAlchemy-1.2.19-cp312-cp312-linux_x86_64.whl size=1146657 sha256=0ea91501c00186d9a664c0639e885260b15d5e3868b621d74d92a7fa70179e1c\n",
            "  Stored in directory: /root/.cache/pip/wheels/0b/7e/50/84e9e1171b9f75c3c2c401f9360cf19609f1e07087d721e480\n",
            "Successfully built ai_foundations sqlalchemy\n",
            "Installing collected packages: sqlalchemy, python-editor, durationpy, wadler-lindig, urllib3, ml_collections, jedi, dnspython, async_generator, jaxtyping, alembic, mediapy, docker, cloud-sql-python-connector, kubernetes, grain, xmanager, clu, kauldron, gemma, ai_foundations\n",
            "  Attempting uninstall: sqlalchemy\n",
            "    Found existing installation: SQLAlchemy 2.0.44\n",
            "    Uninstalling SQLAlchemy-2.0.44:\n",
            "      Successfully uninstalled SQLAlchemy-2.0.44\n",
            "  Attempting uninstall: urllib3\n",
            "    Found existing installation: urllib3 2.5.0\n",
            "    Uninstalling urllib3-2.5.0:\n",
            "      Successfully uninstalled urllib3-2.5.0\n",
            "  Attempting uninstall: alembic\n",
            "    Found existing installation: alembic 1.17.0\n",
            "    Uninstalling alembic-1.17.0:\n",
            "      Successfully uninstalled alembic-1.17.0\n",
            "\u001b[31mERROR: pip's dependency resolver does not currently take into account all the packages that are installed. This behaviour is the source of the following dependency conflicts.\n",
            "langchain 0.3.27 requires SQLAlchemy<3,>=1.4, but you have sqlalchemy 1.2.19 which is incompatible.\n",
            "google-adk 1.16.0 requires sqlalchemy<3.0.0,>=2.0, but you have sqlalchemy 1.2.19 which is incompatible.\n",
            "ipython-sql 0.5.0 requires sqlalchemy>=2.0, but you have sqlalchemy 1.2.19 which is incompatible.\u001b[0m\u001b[31m\n",
            "\u001b[0mSuccessfully installed ai_foundations-0.1.0 alembic-1.4.3 async_generator-1.10 cloud-sql-python-connector-1.18.5 clu-0.0.12 dnspython-2.8.0 docker-7.1.0 durationpy-0.10 gemma-3.0.0 grain-0.2.13 jaxtyping-0.3.3 jedi-0.19.2 kauldron-1.3.0 kubernetes-34.1.0 mediapy-1.2.4 ml_collections-1.1.0 python-editor-1.0.4 sqlalchemy-1.2.19 urllib3-2.3.0 wadler-lindig-0.1.7 xmanager-0.7.1\n"
          ]
        },
        {
          "output_type": "display_data",
          "data": {
            "application/vnd.colab-display-data+json": {
              "pip_warning": {
                "packages": [
                  "google"
                ]
              },
              "id": "029f2ea97f4741a1a2cb4e9ee3a7cf51"
            }
          },
          "metadata": {}
        }
      ]
    },
    {
      "cell_type": "markdown",
      "source": [
        "### Assigning Probabilities"
      ],
      "metadata": {
        "id": "4VKe0HCKgkia"
      }
    },
    {
      "cell_type": "code",
      "source": [
        "candidate_words = [\"star\", \"brother\", \"twinkle\"]\n",
        "\n",
        "# probabilites for eahc word\n",
        "your_mental_model = [0.99, 0.001, 0.009]\n",
        "\n",
        "probabilities.test_probabilities(candidate_words, your_mental_model)"
      ],
      "metadata": {
        "colab": {
          "base_uri": "https://localhost:8080/"
        },
        "id": "5QfA9AdvgWhg",
        "outputId": "645737ae-ad62-481c-ec00-aa769f19d214"
      },
      "execution_count": null,
      "outputs": [
        {
          "output_type": "stream",
          "name": "stdout",
          "text": [
            "✅ You've set the probabilities successfully. Well done!\n"
          ]
        }
      ]
    },
    {
      "cell_type": "markdown",
      "source": [
        "`random.choices` = Allows you to choose an item from a list based on specified weights"
      ],
      "metadata": {
        "id": "yv-cJciXhjLj"
      }
    },
    {
      "cell_type": "code",
      "source": [
        "chosen_word = random.choices(candidate_words, weights=your_mental_model)\n",
        "print(f\"Twinkle twinkle little {chosen_word[0]}\")"
      ],
      "metadata": {
        "colab": {
          "base_uri": "https://localhost:8080/"
        },
        "id": "dnchOE_Pg7ah",
        "outputId": "39d0cd20-0e59-4c3c-ddd6-7a1b0f9a1591"
      },
      "execution_count": null,
      "outputs": [
        {
          "output_type": "stream",
          "name": "stdout",
          "text": [
            "Twinkle twinkle little star\n"
          ]
        }
      ]
    },
    {
      "cell_type": "code",
      "source": [
        "candidate_words = [\n",
        "    \"food\",\n",
        "    \"snacks\",\n",
        "    \"leftovers\",\n",
        "    \"her\",\n",
        "    \"for\",\n",
        "    \"water\",\n",
        "    \"photosynthesis\",\n",
        "    \"pyramid\",\n",
        "]\n",
        "\n",
        "your_mental_model = [0.2, 0.346, 0.2, 0.09, 0.001, 0.16, 0.002, 0.001]\n",
        "\n",
        "probabilities.test_probabilities(candidate_words, your_mental_model)"
      ],
      "metadata": {
        "colab": {
          "base_uri": "https://localhost:8080/"
        },
        "id": "XpkKT4LBhX2v",
        "outputId": "9e8e2a67-a3e4-4755-c930-578e3aeb05d1"
      },
      "execution_count": null,
      "outputs": [
        {
          "output_type": "stream",
          "name": "stdout",
          "text": [
            "✅ You've set the probabilities successfully. Well done!\n"
          ]
        }
      ]
    },
    {
      "cell_type": "code",
      "source": [
        "chosen_word = random.choices(candidate_words, weights=your_mental_model)\n",
        "\n",
        "print(f\"Jide was hungry so she went looking for {chosen_word[0]} ...\")"
      ],
      "metadata": {
        "colab": {
          "base_uri": "https://localhost:8080/"
        },
        "id": "dbc5BGpYh77o",
        "outputId": "235979ba-699b-40e3-c678-2b6d5c40b213"
      },
      "execution_count": null,
      "outputs": [
        {
          "output_type": "stream",
          "name": "stdout",
          "text": [
            "Jide was hungry so she went looking for her ...\n"
          ]
        }
      ]
    },
    {
      "cell_type": "markdown",
      "source": [
        "### Importance of Context"
      ],
      "metadata": {
        "id": "VEZowJ7firc4"
      }
    },
    {
      "cell_type": "code",
      "source": [
        "candidate_words = [\n",
        "    \"food\",\n",
        "    \"snacks\",\n",
        "    \"leftovers\",\n",
        "    \"her\",\n",
        "    \"for\",\n",
        "    \"water\",\n",
        "    \"photosynthesis\",\n",
        "    \"pyramid\",\n",
        "]\n",
        "\n",
        "\n",
        "your_mental_model = [0.05, 0.046, 0.09, 0.05, 0.001, 0.76, 0.002, 0.001]\n",
        "\n",
        "probabilities.test_probabilities(candidate_words, your_mental_model)"
      ],
      "metadata": {
        "colab": {
          "base_uri": "https://localhost:8080/"
        },
        "id": "G_b2GmwwioLQ",
        "outputId": "c6a9dc27-6436-415c-ab39-593c5087206a"
      },
      "execution_count": null,
      "outputs": [
        {
          "output_type": "stream",
          "name": "stdout",
          "text": [
            "✅ You've set the probabilities successfully. Well done!\n"
          ]
        }
      ]
    },
    {
      "cell_type": "code",
      "source": [
        "chosen_word = random.choices(candidate_words, weights=your_mental_model)\n",
        "\n",
        "print(f\"Jide was thirsty so she went looking for {chosen_word[0]}...\")"
      ],
      "metadata": {
        "colab": {
          "base_uri": "https://localhost:8080/"
        },
        "id": "-TYip6J0i1WL",
        "outputId": "a3cc5493-0c3c-489b-b8b6-e91b29c2232a"
      },
      "execution_count": null,
      "outputs": [
        {
          "output_type": "stream",
          "name": "stdout",
          "text": [
            "Jide was thirsty so she went looking for water...\n"
          ]
        }
      ]
    },
    {
      "cell_type": "code",
      "source": [],
      "metadata": {
        "id": "tMa1ClWUi8l-"
      },
      "execution_count": null,
      "outputs": []
    }
  ]
}